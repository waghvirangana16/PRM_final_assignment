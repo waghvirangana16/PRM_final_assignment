{
 "cells": [
  {
   "cell_type": "code",
   "execution_count": 14,
   "id": "444df6bb",
   "metadata": {},
   "outputs": [
    {
     "name": "stdout",
     "output_type": "stream",
     "text": [
      "Enter the size of list 6\n",
      "1\n",
      "2\n",
      "3\n",
      "4\n",
      "5\n",
      "6\n",
      "[1, 2, 3, 4, 5, 6]\n",
      "\n",
      "sorted list is  [6, 1, 5, 2, 4, 3]\n"
     ]
    }
   ],
   "source": [
    "#Problem1 sorting list\n",
    "\n",
    "mm=int(input(\"Enter the size of list \"))\n",
    "l=[]\n",
    "for i in range(mm):\n",
    "    n=int(input())\n",
    "    l.append(n)\n",
    "print(l)\n",
    "m=len(l)\n",
    "l1=[]\n",
    "def maxx():\n",
    "    max=l[0]\n",
    "    for i in range(m):\n",
    "        if max<l[i]:\n",
    "            max=l[i]\n",
    "    return max\n",
    "for i in range(0,mm,2):\n",
    "    n=maxx()\n",
    "    l1.insert(i,n)\n",
    "    l1.insert(i+1,1)\n",
    "    l.remove(n)\n",
    "    m=m-1\n",
    "for i in range(mm-1,1,-2):\n",
    "    n=maxx()\n",
    "    l1[i]=n\n",
    "    l.remove(n)\n",
    "    m=m-1       \n",
    "print(\"\\nsorted list is \",l1)\n",
    "    "
   ]
  },
  {
   "cell_type": "code",
   "execution_count": 5,
   "id": "989e2dc7",
   "metadata": {},
   "outputs": [
    {
     "name": "stdout",
     "output_type": "stream",
     "text": [
      "Enter input number 4\n"
     ]
    },
    {
     "data": {
      "text/plain": [
       "2"
      ]
     },
     "execution_count": 5,
     "metadata": {},
     "output_type": "execute_result"
    }
   ],
   "source": [
    "# Problem 2  find nth fiboncci number\n",
    "\n",
    "def fiboncci(n):\n",
    "    a=0\n",
    "    b=1\n",
    "    if n<=0:\n",
    "        print(\"Incorrect input\")\n",
    "    elif n==1:\n",
    "        return b\n",
    "    else:\n",
    "        for i in range(2,n):\n",
    "            c=a+b\n",
    "            a=b\n",
    "            b=c\n",
    "        return b\n",
    "    \n",
    "n=int(input(\"Enter input number \"))\n",
    "fiboncci(n)\n",
    "\n",
    "    \n",
    "        \n"
   ]
  }
 ],
 "metadata": {
  "kernelspec": {
   "display_name": "Python 3 (ipykernel)",
   "language": "python",
   "name": "python3"
  },
  "language_info": {
   "codemirror_mode": {
    "name": "ipython",
    "version": 3
   },
   "file_extension": ".py",
   "mimetype": "text/x-python",
   "name": "python",
   "nbconvert_exporter": "python",
   "pygments_lexer": "ipython3",
   "version": "3.9.12"
  }
 },
 "nbformat": 4,
 "nbformat_minor": 5
}
